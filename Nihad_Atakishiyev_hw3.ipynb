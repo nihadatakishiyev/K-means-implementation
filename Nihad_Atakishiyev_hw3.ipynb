{
 "cells": [
  {
   "cell_type": "code",
   "execution_count": 44,
   "metadata": {},
   "outputs": [],
   "source": [
    "import math\n",
    "import pandas as pd\n",
    "import numpy as np\n",
    "import matplotlib.pyplot as plt\n",
    "from mpl_toolkits.mplot3d import Axes3D\n",
    "from sklearn.preprocessing import MinMaxScaler\n",
    "from sklearn.metrics import accuracy_score\n",
    "from sklearn.linear_model import LogisticRegression\n",
    "import random as random\n",
    "from copy import deepcopy\n",
    "from sklearn.cluster import KMeans"
   ]
  },
  {
   "cell_type": "code",
   "execution_count": 3,
   "metadata": {},
   "outputs": [
    {
     "data": {
      "text/html": [
       "<div>\n",
       "<style scoped>\n",
       "    .dataframe tbody tr th:only-of-type {\n",
       "        vertical-align: middle;\n",
       "    }\n",
       "\n",
       "    .dataframe tbody tr th {\n",
       "        vertical-align: top;\n",
       "    }\n",
       "\n",
       "    .dataframe thead th {\n",
       "        text-align: right;\n",
       "    }\n",
       "</style>\n",
       "<table border=\"1\" class=\"dataframe\">\n",
       "  <thead>\n",
       "    <tr style=\"text-align: right;\">\n",
       "      <th></th>\n",
       "      <th>0</th>\n",
       "      <th>1</th>\n",
       "    </tr>\n",
       "  </thead>\n",
       "  <tbody>\n",
       "    <tr>\n",
       "      <th>0</th>\n",
       "      <td>1.842080</td>\n",
       "      <td>4.607572</td>\n",
       "    </tr>\n",
       "    <tr>\n",
       "      <th>1</th>\n",
       "      <td>5.658583</td>\n",
       "      <td>4.799964</td>\n",
       "    </tr>\n",
       "    <tr>\n",
       "      <th>2</th>\n",
       "      <td>6.352579</td>\n",
       "      <td>3.290854</td>\n",
       "    </tr>\n",
       "    <tr>\n",
       "      <th>3</th>\n",
       "      <td>2.904017</td>\n",
       "      <td>4.612204</td>\n",
       "    </tr>\n",
       "    <tr>\n",
       "      <th>4</th>\n",
       "      <td>3.231979</td>\n",
       "      <td>4.939894</td>\n",
       "    </tr>\n",
       "  </tbody>\n",
       "</table>\n",
       "</div>"
      ],
      "text/plain": [
       "          0         1\n",
       "0  1.842080  4.607572\n",
       "1  5.658583  4.799964\n",
       "2  6.352579  3.290854\n",
       "3  2.904017  4.612204\n",
       "4  3.231979  4.939894"
      ]
     },
     "execution_count": 3,
     "metadata": {},
     "output_type": "execute_result"
    }
   ],
   "source": [
    "val = pd.read_csv(\"k-means.csv\", delimiter = '\\t', decimal = ',', header = None)\n",
    "val.head()"
   ]
  },
  {
   "cell_type": "code",
   "execution_count": 4,
   "metadata": {},
   "outputs": [
    {
     "data": {
      "image/png": "[encoded data removed]",
      "text/plain": [
       "<Figure size 432x288 with 1 Axes>"
      ]
     },
     "metadata": {
      "needs_background": "light"
     },
     "output_type": "display_data"
    }
   ],
   "source": [
    "plt.scatter(val[val.columns[0]], val[val.columns[1]])\n",
    "cl1 = val[val.columns[0]]\n",
    "cl2 = val[val.columns[1]]"
   ]
  },
  {
   "cell_type": "code",
   "execution_count": 5,
   "metadata": {},
   "outputs": [],
   "source": [
    "arr = np.array([val[val.columns[0]], val[val.columns[1]]])\n",
    "k=3\n",
    "arr_T = arr.T\n",
    "size = 300\n",
    "repeat = 100"
   ]
  },
  {
   "cell_type": "code",
   "execution_count": 16,
   "metadata": {},
   "outputs": [],
   "source": [
    "mid = []\n",
    "\n",
    "for j in range(3):\n",
    "    num = random.randint(0, 299)\n",
    "    mid.append(arr_T[num])\n",
    "     \n",
    "val1 = [mid[0][0],mid[1][0], mid[2][0]]\n",
    "val2 = [mid[0][1],mid[1][1], mid[2][1]]\n",
    "\n",
    "b = np.array(list(zip(val1, val2)))"
   ]
  },
  {
   "cell_type": "code",
   "execution_count": 60,
   "metadata": {},
   "outputs": [],
   "source": [
    "def ff(d, e, ax = 1):\n",
    "    return np.linalg.norm(d - e, axis = ax)\n",
    "\n",
    "dd = []\n",
    "\n",
    "prev = np.zeros(b.shape)\n",
    "ctlr = np.zeros(len(arr_T))\n",
    "\n",
    "ferq = ff(b, prev, None)\n",
    "for j in range(repeat):\n",
    "    for l in range(len(arr_T)):\n",
    "        mess = ff(arr_T[l], b)\n",
    "        kl = np.argmin(mess)\n",
    "        ctlr[l] = kl\n",
    "        \n",
    "    prev = deepcopy(b)\n",
    "    for m in range(k):\n",
    "        dots = [arr_T[ac] for ac in range(len(arr_T)) if ctlr[ac] == m]\n",
    "        dd.append(b[m])\n",
    "        b[m] = np.mean(dots, axis=0)\n",
    "        \n",
    "    ferq = ff(b, prev, None)"
   ]
  },
  {
   "cell_type": "code",
   "execution_count": 61,
   "metadata": {},
   "outputs": [
    {
     "data": {
      "text/plain": [
       "<matplotlib.collections.PathCollection at 0x3098970>"
      ]
     },
     "execution_count": 61,
     "metadata": {},
     "output_type": "execute_result"
    },
    {
     "data": {
      "image/png": "[encoded data removed]",
      "text/plain": [
       "<Figure size 432x288 with 1 Axes>"
      ]
     },
     "metadata": {
      "needs_background": "light"
     },
     "output_type": "display_data"
    }
   ],
   "source": [
    "plt.scatter(cl1, cl2, c = 'blue')\n",
    "plt.scatter(val1, val2, marker = '*', s = 300, c = 'black')"
   ]
  },
  {
   "cell_type": "code",
   "execution_count": 62,
   "metadata": {},
   "outputs": [
    {
     "data": {
      "image/png": "[encoded data removed]",
      "text/plain": [
       "<Figure size 432x288 with 1 Axes>"
      ]
     },
     "metadata": {
      "needs_background": "light"
     },
     "output_type": "display_data"
    }
   ],
   "source": [
    "reng = ['r', 'b', 'g']\n",
    "fig, ax = plt.subplots()\n",
    "for iter in range(k):\n",
    "        dots = np.array([arr_T[iterr] for iterr in range(len(arr_T)) if ctlr[iterr] == iter])\n",
    "        # print(dots)\n",
    "        ax.scatter(dots[:, 0], dots[:, 1], s=7, c=reng[iter])\n",
    "plt.scatter(val1, val2, marker = '*', s = 200, c = 'black')\n",
    "\n",
    "for iter in range(len(prev)):\n",
    "    plt.scatter(prev[iter][0], prev[iter][1], marker = '*', s = 200, c = 'yellow')"
   ]
  },
  {
   "cell_type": "code",
   "execution_count": 63,
   "metadata": {},
   "outputs": [],
   "source": [
    "validate = [ [0.3, 5.2],\n",
    "           [2, 4.4],\n",
    "           [1.1, 5.2],\n",
    "           [5.2, 2.9],\n",
    "           [5.3, 3.3],\n",
    "           [6.1, 2.8],\n",
    "           [2, 1]]"
   ]
  },
  {
   "cell_type": "code",
   "execution_count": 64,
   "metadata": {},
   "outputs": [],
   "source": [
    "for iter in range(len(validate)):\n",
    "        dt = ff(validate[iter], b)\n",
    "        l = np.argmin(dt)\n",
    "        np.zeros(len(x_test))[i] = l"
   ]
  },
  {
   "cell_type": "code",
   "execution_count": 65,
   "metadata": {},
   "outputs": [
    {
     "name": "stdout",
     "output_type": "stream",
     "text": [
      "[0. 0. 0. 2. 2. 2. 1.]\n"
     ]
    }
   ],
   "source": [
    "print(clust_s_test)   "
   ]
  },
  {
   "cell_type": "code",
   "execution_count": 66,
   "metadata": {},
   "outputs": [
    {
     "data": {
      "text/plain": [
       "array([2, 2, 2, 1, 1, 1, 0])"
      ]
     },
     "execution_count": 66,
     "metadata": {},
     "output_type": "execute_result"
    }
   ],
   "source": [
    "kmeans = KMeans(n_clusters=3, random_state=0)\n",
    "kmeans.fit(arr_T)\n",
    "kmeans.predict([[0.3, 5.2],\n",
    "                [2, 4.4],\n",
    "                [1.1, 5.2],\n",
    "                [5.2, 2.9],\n",
    "                [5.3, 3.3],\n",
    "                [6.1, 2.8],\n",
    "                [2, 1]])"
   ]
  }
 ],
 "metadata": {
  "kernelspec": {
   "display_name": "Python 3",
   "language": "python",
   "name": "python3"
  },
  "language_info": {
   "codemirror_mode": {
    "name": "ipython",
    "version": 3
   },
   "file_extension": ".py",
   "mimetype": "text/x-python",
   "name": "python",
   "nbconvert_exporter": "python",
   "pygments_lexer": "ipython3",
   "version": "3.7.1"
  }
 },
 "nbformat": 4,
 "nbformat_minor": 2
}
